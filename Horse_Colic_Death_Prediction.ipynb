{
 "cells": [
  {
   "cell_type": "markdown",
   "metadata": {},
   "source": [
    "# Horse Colic Death Prediction"
   ]
  },
  {
   "cell_type": "markdown",
   "metadata": {},
   "source": [
    "Samantha Maillie "
   ]
  },
  {
   "attachments": {},
   "cell_type": "markdown",
   "metadata": {},
   "source": [
    "There is a common joke made in the horse world: \"Everything kills horses\". It is in some ways truthful. They are fragile animals. Their body type means a broken leg or foot can be fatal for these animals. There is a lot of effort put into keeping horse's legs as protected as possible. This is particularly focused on with competition horses. Many people think of racehorses but there are many different sports within the equestrian community and people from all disciplines will tell you the same thing: \"Horses are a handful\". There is a lot of money involved of course but also to most of these riders their horse is their teammate. A beloved partner they will do anything to protect. Leg injuries are more prevalent issues within competitive horses. However, all horse owners need to be careful to prevent colic. A very simplified explanation of colic is actually a symptom a 'stomach ache' indicating sometimes-serious digestive tract issues. This can prove fatal and once it starts sometimes its impossible to stop before it becomes a fatal condition. The problem? Colic can be caused by anything. The way I have explained it over my years working with horses is this: think of all the times you have had to vomit. Think about any pets you have had that have had to throw up. In each case the body was doing that for a reason. Horses can't throw up. That is sometimes where we start to see problems like colic. If a dog gets into the cabinet and eats too much food maybe she's a little sick. If a horse does its a life or death scenario. Changes in eating habits can also instigate colic. There is something referred to as a sand colic where a horse eats too much off the ground and ends up with sand in their stomach. The list could continue. The point is it is incredibly easy. This project may not be the most important to everyone but to this passionate community of equestrians it is critically important to have the best information available to keep these horses healthy."
   ]
  },
  {
   "cell_type": "markdown",
   "metadata": {},
   "source": [
    "# My Background"
   ]
  },
  {
   "cell_type": "markdown",
   "metadata": {},
   "source": [
    "The majority of the information I am providing within this project comes from working with these animals all of my life. I am certified on a national level in regards to horse care. I have spent a lot of time working with these animals and have had numerous first hand experiences dealing with horses that were colicking. My background is where my interest in this project grew from. "
   ]
  },
  {
   "cell_type": "markdown",
   "metadata": {
    "collapsed": true
   },
   "source": [
    "# Dataset Description"
   ]
  },
  {
   "attachments": {},
   "cell_type": "markdown",
   "metadata": {
    "collapsed": true
   },
   "source": [
    "This dataset is from Kaggle, which pulled it from UCI Machine Learning databases. The data was collected to attempt to learn how to best predict whether the horse will survive. There are numerous predictors regarding the horse’s health. Death and euthanasia are both considered as the same outcome for this research."
   ]
  },
  {
   "cell_type": "markdown",
   "metadata": {},
   "source": [
    "# Preliminary Analysis"
   ]
  },
  {
   "cell_type": "code",
   "execution_count": 1,
   "metadata": {
    "collapsed": true
   },
   "outputs": [],
   "source": [
    "import pandas as pd\n",
    "import matplotlib.pyplot as plt\n",
    "import pylab\n",
    "import seaborn as sns\n",
    "import numpy as np\n",
    "from sklearn.model_selection import train_test_split\n",
    "from sklearn.linear_model import LogisticRegression\n",
    "from sklearn import svm\n",
    "from sklearn.naive_bayes import GaussianNB\n",
    "from sklearn.discriminant_analysis import LinearDiscriminantAnalysis\n",
    "from sklearn.neighbors import KNeighborsClassifier\n",
    "from sklearn.ensemble import RandomForestClassifier\n",
    "from sklearn import model_selection\n",
    "from sklearn.model_selection import cross_val_score\n",
    "from sklearn.metrics import confusion_matrix\n",
    "from sklearn.metrics import classification_report\n",
    "from sklearn.metrics import roc_auc_score\n",
    "from sklearn.metrics import roc_curve"
   ]
  },
  {
   "cell_type": "code",
   "execution_count": 2,
   "metadata": {
    "collapsed": true
   },
   "outputs": [],
   "source": [
    "horse = pd.read_csv(\"horse.csv\")"
   ]
  },
  {
   "cell_type": "code",
   "execution_count": 3,
   "metadata": {},
   "outputs": [
    {
     "data": {
      "text/html": [
       "<div>\n",
       "<style>\n",
       "    .dataframe thead tr:only-child th {\n",
       "        text-align: right;\n",
       "    }\n",
       "\n",
       "    .dataframe thead th {\n",
       "        text-align: left;\n",
       "    }\n",
       "\n",
       "    .dataframe tbody tr th {\n",
       "        vertical-align: top;\n",
       "    }\n",
       "</style>\n",
       "<table border=\"1\" class=\"dataframe\">\n",
       "  <thead>\n",
       "    <tr style=\"text-align: right;\">\n",
       "      <th></th>\n",
       "      <th>surgery</th>\n",
       "      <th>age</th>\n",
       "      <th>hospital_number</th>\n",
       "      <th>rectal_temp</th>\n",
       "      <th>pulse</th>\n",
       "      <th>respiratory_rate</th>\n",
       "      <th>temp_of_extremities</th>\n",
       "      <th>peripheral_pulse</th>\n",
       "      <th>mucous_membrane</th>\n",
       "      <th>capillary_refill_time</th>\n",
       "      <th>...</th>\n",
       "      <th>packed_cell_volume</th>\n",
       "      <th>total_protein</th>\n",
       "      <th>abdomo_appearance</th>\n",
       "      <th>abdomo_protein</th>\n",
       "      <th>outcome</th>\n",
       "      <th>surgical_lesion</th>\n",
       "      <th>lesion_1</th>\n",
       "      <th>lesion_2</th>\n",
       "      <th>lesion_3</th>\n",
       "      <th>cp_data</th>\n",
       "    </tr>\n",
       "  </thead>\n",
       "  <tbody>\n",
       "    <tr>\n",
       "      <th>0</th>\n",
       "      <td>no</td>\n",
       "      <td>adult</td>\n",
       "      <td>530101</td>\n",
       "      <td>38.5</td>\n",
       "      <td>66.0</td>\n",
       "      <td>28.0</td>\n",
       "      <td>cool</td>\n",
       "      <td>reduced</td>\n",
       "      <td>NaN</td>\n",
       "      <td>more_3_sec</td>\n",
       "      <td>...</td>\n",
       "      <td>45.0</td>\n",
       "      <td>8.4</td>\n",
       "      <td>NaN</td>\n",
       "      <td>NaN</td>\n",
       "      <td>died</td>\n",
       "      <td>no</td>\n",
       "      <td>11300</td>\n",
       "      <td>0</td>\n",
       "      <td>0</td>\n",
       "      <td>no</td>\n",
       "    </tr>\n",
       "    <tr>\n",
       "      <th>1</th>\n",
       "      <td>yes</td>\n",
       "      <td>adult</td>\n",
       "      <td>534817</td>\n",
       "      <td>39.2</td>\n",
       "      <td>88.0</td>\n",
       "      <td>20.0</td>\n",
       "      <td>NaN</td>\n",
       "      <td>NaN</td>\n",
       "      <td>pale_cyanotic</td>\n",
       "      <td>less_3_sec</td>\n",
       "      <td>...</td>\n",
       "      <td>50.0</td>\n",
       "      <td>85.0</td>\n",
       "      <td>cloudy</td>\n",
       "      <td>2.0</td>\n",
       "      <td>euthanized</td>\n",
       "      <td>no</td>\n",
       "      <td>2208</td>\n",
       "      <td>0</td>\n",
       "      <td>0</td>\n",
       "      <td>no</td>\n",
       "    </tr>\n",
       "    <tr>\n",
       "      <th>2</th>\n",
       "      <td>no</td>\n",
       "      <td>adult</td>\n",
       "      <td>530334</td>\n",
       "      <td>38.3</td>\n",
       "      <td>40.0</td>\n",
       "      <td>24.0</td>\n",
       "      <td>normal</td>\n",
       "      <td>normal</td>\n",
       "      <td>pale_pink</td>\n",
       "      <td>less_3_sec</td>\n",
       "      <td>...</td>\n",
       "      <td>33.0</td>\n",
       "      <td>6.7</td>\n",
       "      <td>NaN</td>\n",
       "      <td>NaN</td>\n",
       "      <td>lived</td>\n",
       "      <td>no</td>\n",
       "      <td>0</td>\n",
       "      <td>0</td>\n",
       "      <td>0</td>\n",
       "      <td>yes</td>\n",
       "    </tr>\n",
       "    <tr>\n",
       "      <th>3</th>\n",
       "      <td>yes</td>\n",
       "      <td>young</td>\n",
       "      <td>5290409</td>\n",
       "      <td>39.1</td>\n",
       "      <td>164.0</td>\n",
       "      <td>84.0</td>\n",
       "      <td>cold</td>\n",
       "      <td>normal</td>\n",
       "      <td>dark_cyanotic</td>\n",
       "      <td>more_3_sec</td>\n",
       "      <td>...</td>\n",
       "      <td>48.0</td>\n",
       "      <td>7.2</td>\n",
       "      <td>serosanguious</td>\n",
       "      <td>5.3</td>\n",
       "      <td>died</td>\n",
       "      <td>yes</td>\n",
       "      <td>2208</td>\n",
       "      <td>0</td>\n",
       "      <td>0</td>\n",
       "      <td>yes</td>\n",
       "    </tr>\n",
       "    <tr>\n",
       "      <th>4</th>\n",
       "      <td>no</td>\n",
       "      <td>adult</td>\n",
       "      <td>530255</td>\n",
       "      <td>37.3</td>\n",
       "      <td>104.0</td>\n",
       "      <td>35.0</td>\n",
       "      <td>NaN</td>\n",
       "      <td>NaN</td>\n",
       "      <td>dark_cyanotic</td>\n",
       "      <td>more_3_sec</td>\n",
       "      <td>...</td>\n",
       "      <td>74.0</td>\n",
       "      <td>7.4</td>\n",
       "      <td>NaN</td>\n",
       "      <td>NaN</td>\n",
       "      <td>died</td>\n",
       "      <td>no</td>\n",
       "      <td>4300</td>\n",
       "      <td>0</td>\n",
       "      <td>0</td>\n",
       "      <td>no</td>\n",
       "    </tr>\n",
       "  </tbody>\n",
       "</table>\n",
       "<p>5 rows × 28 columns</p>\n",
       "</div>"
      ],
      "text/plain": [
       "  surgery    age  hospital_number  rectal_temp  pulse  respiratory_rate  \\\n",
       "0      no  adult           530101         38.5   66.0              28.0   \n",
       "1     yes  adult           534817         39.2   88.0              20.0   \n",
       "2      no  adult           530334         38.3   40.0              24.0   \n",
       "3     yes  young          5290409         39.1  164.0              84.0   \n",
       "4      no  adult           530255         37.3  104.0              35.0   \n",
       "\n",
       "  temp_of_extremities peripheral_pulse mucous_membrane capillary_refill_time  \\\n",
       "0                cool          reduced             NaN            more_3_sec   \n",
       "1                 NaN              NaN   pale_cyanotic            less_3_sec   \n",
       "2              normal           normal       pale_pink            less_3_sec   \n",
       "3                cold           normal   dark_cyanotic            more_3_sec   \n",
       "4                 NaN              NaN   dark_cyanotic            more_3_sec   \n",
       "\n",
       "    ...    packed_cell_volume total_protein abdomo_appearance abdomo_protein  \\\n",
       "0   ...                  45.0           8.4               NaN            NaN   \n",
       "1   ...                  50.0          85.0            cloudy            2.0   \n",
       "2   ...                  33.0           6.7               NaN            NaN   \n",
       "3   ...                  48.0           7.2     serosanguious            5.3   \n",
       "4   ...                  74.0           7.4               NaN            NaN   \n",
       "\n",
       "      outcome  surgical_lesion lesion_1 lesion_2  lesion_3  cp_data  \n",
       "0        died               no    11300        0         0       no  \n",
       "1  euthanized               no     2208        0         0       no  \n",
       "2       lived               no        0        0         0      yes  \n",
       "3        died              yes     2208        0         0      yes  \n",
       "4        died               no     4300        0         0       no  \n",
       "\n",
       "[5 rows x 28 columns]"
      ]
     },
     "execution_count": 3,
     "metadata": {},
     "output_type": "execute_result"
    }
   ],
   "source": [
    "horse.head()"
   ]
  },
  {
   "cell_type": "code",
   "execution_count": 4,
   "metadata": {},
   "outputs": [
    {
     "data": {
      "text/plain": [
       "surgery                   object\n",
       "age                       object\n",
       "hospital_number            int64\n",
       "rectal_temp              float64\n",
       "pulse                    float64\n",
       "respiratory_rate         float64\n",
       "temp_of_extremities       object\n",
       "peripheral_pulse          object\n",
       "mucous_membrane           object\n",
       "capillary_refill_time     object\n",
       "pain                      object\n",
       "peristalsis               object\n",
       "abdominal_distention      object\n",
       "nasogastric_tube          object\n",
       "nasogastric_reflux        object\n",
       "nasogastric_reflux_ph    float64\n",
       "rectal_exam_feces         object\n",
       "abdomen                   object\n",
       "packed_cell_volume       float64\n",
       "total_protein            float64\n",
       "abdomo_appearance         object\n",
       "abdomo_protein           float64\n",
       "outcome                   object\n",
       "surgical_lesion           object\n",
       "lesion_1                   int64\n",
       "lesion_2                   int64\n",
       "lesion_3                   int64\n",
       "cp_data                   object\n",
       "dtype: object"
      ]
     },
     "execution_count": 4,
     "metadata": {},
     "output_type": "execute_result"
    }
   ],
   "source": [
    "horse.dtypes"
   ]
  },
  {
   "cell_type": "markdown",
   "metadata": {},
   "source": [
    "## Make Dead or Alive Variable"
   ]
  },
  {
   "cell_type": "code",
   "execution_count": 5,
   "metadata": {},
   "outputs": [
    {
     "data": {
      "text/plain": [
       "array(['dead', 'alive'], dtype=object)"
      ]
     },
     "execution_count": 5,
     "metadata": {},
     "output_type": "execute_result"
    }
   ],
   "source": [
    "horse[\"alive\"] = horse[\"outcome\"]\n",
    "horse[\"alive\"] = np.where(horse[\"alive\"] =='dead', 'dead', horse[\"alive\"])\n",
    "horse[\"alive\"] = np.where(horse[\"alive\"] =='lived', 'alive', horse[\"alive\"])\n",
    "horse[\"alive\"] = np.where(horse[\"alive\"] =='euthanized', 'dead', horse[\"alive\"]) \n",
    "horse[\"alive\"] = np.where(horse[\"alive\"] =='died', 'dead', horse[\"alive\"]) \n",
    "horse[\"alive\"].unique()"
   ]
  },
  {
   "cell_type": "code",
   "execution_count": 6,
   "metadata": {},
   "outputs": [
    {
     "data": {
      "text/plain": [
       "array(['1', '0'], dtype=object)"
      ]
     },
     "execution_count": 6,
     "metadata": {},
     "output_type": "execute_result"
    }
   ],
   "source": [
    "horse[\"alive\"] = np.where(horse[\"alive\"] =='dead', '1', horse[\"alive\"])\n",
    "horse[\"alive\"] = np.where(horse[\"alive\"] =='alive', '0', horse[\"alive\"])\n",
    "horse[\"alive\"].unique()"
   ]
  },
  {
   "cell_type": "markdown",
   "metadata": {},
   "source": [
    "## Hospital Number and cp_data are not relevant"
   ]
  },
  {
   "cell_type": "code",
   "execution_count": 7,
   "metadata": {
    "collapsed": true
   },
   "outputs": [],
   "source": [
    "horse = horse.drop(['hospital_number', 'cp_data'], axis=1)"
   ]
  },
  {
   "cell_type": "markdown",
   "metadata": {},
   "source": [
    "## Deal With NAs "
   ]
  },
  {
   "cell_type": "code",
   "execution_count": 8,
   "metadata": {},
   "outputs": [
    {
     "data": {
      "text/plain": [
       "(299, 27)"
      ]
     },
     "execution_count": 8,
     "metadata": {},
     "output_type": "execute_result"
    }
   ],
   "source": [
    "horse.shape # n = 299 , p = 26"
   ]
  },
  {
   "cell_type": "code",
   "execution_count": 9,
   "metadata": {},
   "outputs": [
    {
     "data": {
      "text/plain": [
       "surgery                    0\n",
       "age                        0\n",
       "rectal_temp               60\n",
       "pulse                     24\n",
       "respiratory_rate          58\n",
       "temp_of_extremities       56\n",
       "peripheral_pulse          69\n",
       "mucous_membrane           47\n",
       "capillary_refill_time     32\n",
       "pain                      55\n",
       "peristalsis               44\n",
       "abdominal_distention      56\n",
       "nasogastric_tube         104\n",
       "nasogastric_reflux       106\n",
       "nasogastric_reflux_ph    246\n",
       "rectal_exam_feces        102\n",
       "abdomen                  118\n",
       "packed_cell_volume        29\n",
       "total_protein             33\n",
       "abdomo_appearance        165\n",
       "abdomo_protein           198\n",
       "outcome                    0\n",
       "surgical_lesion            0\n",
       "lesion_1                   0\n",
       "lesion_2                   0\n",
       "lesion_3                   0\n",
       "alive                      0\n",
       "dtype: int64"
      ]
     },
     "execution_count": 9,
     "metadata": {},
     "output_type": "execute_result"
    }
   ],
   "source": [
    "horse.isnull().sum()"
   ]
  },
  {
   "cell_type": "markdown",
   "metadata": {},
   "source": [
    "# Numerical Variables, handling NA's mean or median?"
   ]
  },
  {
   "cell_type": "markdown",
   "metadata": {},
   "source": [
    "## Rectal Temp"
   ]
  },
  {
   "cell_type": "code",
   "execution_count": 10,
   "metadata": {},
   "outputs": [
    {
     "data": {
      "image/png": "[encoded data removed]",
      "text/plain": [
       "<matplotlib.figure.Figure at 0x1a0c90eba8>"
      ]
     },
     "metadata": {},
     "output_type": "display_data"
    },
    {
     "name": "stdout",
     "output_type": "stream",
     "text": [
      "Percent Missing 20.07 %\n"
     ]
    }
   ],
   "source": [
    "sns.distplot(horse[\"rectal_temp\"].loc[~horse[\"rectal_temp\"].isnull()], color = \"gold\")\n",
    "plt.title(\"Rectal Temp\")\n",
    "#plt.savefig('rt1.png')\n",
    "plt.show()\n",
    "missing = (horse[\"rectal_temp\"].isnull().sum())/len(horse[\"rectal_temp\"])\n",
    "missing = missing*100\n",
    "missing = round(missing, 2)\n",
    "print(\"Percent Missing {} %\" .format(missing))"
   ]
  },
  {
   "cell_type": "code",
   "execution_count": 11,
   "metadata": {},
   "outputs": [
    {
     "data": {
      "image/png": "[encoded data removed]",
      "text/plain": [
       "<matplotlib.figure.Figure at 0x1a0c91b2b0>"
      ]
     },
     "metadata": {},
     "output_type": "display_data"
    }
   ],
   "source": [
    "horse[\"rectal_temp\"]=horse[\"rectal_temp\"].fillna(horse[\"rectal_temp\"].mean())\n",
    "sns.distplot(horse[\"rectal_temp\"], color = \"gold\")\n",
    "plt.title(\"Rectal Temp\")\n",
    "#plt.savefig('rt2.png')\n",
    "plt.show()"
   ]
  },
  {
   "cell_type": "markdown",
   "metadata": {},
   "source": [
    "## Pulse"
   ]
  },
  {
   "cell_type": "code",
   "execution_count": 12,
   "metadata": {},
   "outputs": [
    {
     "data": {
      "image/png": "[encoded data removed]",
      "text/plain": [
       "<matplotlib.figure.Figure at 0x105f1d320>"
      ]
     },
     "metadata": {},
     "output_type": "display_data"
    },
    {
     "name": "stdout",
     "output_type": "stream",
     "text": [
      "Percent Missing 8.03 %\n"
     ]
    }
   ],
   "source": [
    "sns.distplot(horse[\"pulse\"].loc[~horse[\"pulse\"].isnull()], color = \"dodgerblue\")\n",
    "plt.title(\"Pulse\")\n",
    "#plt.savefig('p1.png')\n",
    "plt.show()\n",
    "missing = (horse[\"pulse\"].isnull().sum())/len(horse[\"pulse\"])\n",
    "missing = missing*100\n",
    "missing = round(missing, 2)\n",
    "print(\"Percent Missing {} %\" .format(missing))"
   ]
  },
  {
   "cell_type": "code",
   "execution_count": 13,
   "metadata": {},
   "outputs": [
    {
     "data": {
      "image/png": "[encoded data removed]",
      "text/plain": [
       "<matplotlib.figure.Figure at 0x1a0c971828>"
      ]
     },
     "metadata": {},
     "output_type": "display_data"
    }
   ],
   "source": [
    "horse[\"pulse\"]=horse[\"pulse\"].fillna(horse[\"pulse\"].median())\n",
    "sns.distplot(horse[\"pulse\"], color = \"dodgerblue\")\n",
    "plt.title(\"Pulse\")\n",
    "#plt.savefig('p2.png')\n",
    "plt.show()"
   ]
  },
  {
   "cell_type": "markdown",
   "metadata": {},
   "source": [
    "## Respiratory Rate"
   ]
  },
  {
   "cell_type": "code",
   "execution_count": 14,
   "metadata": {},
   "outputs": [
    {
     "data": {
      "image/png": "[encoded data removed]",
      "text/plain": [
       "<matplotlib.figure.Figure at 0x106d5eba8>"
      ]
     },
     "metadata": {},
     "output_type": "display_data"
    },
    {
     "name": "stdout",
     "output_type": "stream",
     "text": [
      "Percent Missing 19.4 %\n"
     ]
    }
   ],
   "source": [
    "sns.distplot(horse[\"respiratory_rate\"].loc[~horse[\"respiratory_rate\"].isnull()], color = \"lightcoral\")\n",
    "plt.title(\"Respiratory Rate\")\n",
    "#plt.savefig('rr1.png')\n",
    "plt.show()\n",
    "missing = (horse[\"respiratory_rate\"].isnull().sum())/len(horse[\"respiratory_rate\"])\n",
    "missing = missing*100\n",
    "missing = round(missing, 2)\n",
    "print(\"Percent Missing {} %\" .format(missing))"
   ]
  },
  {
   "cell_type": "code",
   "execution_count": 15,
   "metadata": {},
   "outputs": [
    {
     "data": {
      "image/png": "[encoded data removed]",
      "text/plain": [
       "<matplotlib.figure.Figure at 0x1a0c91bf98>"
      ]
     },
     "metadata": {},
     "output_type": "display_data"
    }
   ],
   "source": [
    "horse[\"respiratory_rate\"]=horse[\"respiratory_rate\"].fillna(horse[\"respiratory_rate\"].median())\n",
    "sns.distplot(horse[\"respiratory_rate\"], color = \"lightcoral\")\n",
    "plt.title(\"Respiratory Rate\")\n",
    "#plt.savefig('rr2.png')\n",
    "plt.show()"
   ]
  },
  {
   "cell_type": "markdown",
   "metadata": {},
   "source": [
    "## Nasogastric Reflux PH"
   ]
  },
  {
   "cell_type": "code",
   "execution_count": 16,
   "metadata": {},
   "outputs": [
    {
     "data": {
      "image/png": "[encoded data removed]",
      "text/plain": [
       "<matplotlib.figure.Figure at 0x1a14278438>"
      ]
     },
     "metadata": {},
     "output_type": "display_data"
    },
    {
     "name": "stdout",
     "output_type": "stream",
     "text": [
      "Percent Missing 82.27 %\n"
     ]
    }
   ],
   "source": [
    "sns.distplot(horse[\"nasogastric_reflux_ph\"].loc[~horse[\"nasogastric_reflux_ph\"].isnull()], color = \"darkviolet\")\n",
    "plt.title(\"Nasogastric Reflux PH\")\n",
    "#plt.savefig('nrp1.png')\n",
    "plt.show()\n",
    "missing = (horse[\"nasogastric_reflux_ph\"].isnull().sum())/len(horse[\"nasogastric_reflux_ph\"])\n",
    "missing = missing*100\n",
    "missing = round(missing, 2)\n",
    "print(\"Percent Missing {} %\" .format(missing))"
   ]
  },
  {
   "cell_type": "code",
   "execution_count": 17,
   "metadata": {},
   "outputs": [
    {
     "data": {
      "image/png": "[encoded data removed]",
      "text/plain": [
       "<matplotlib.figure.Figure at 0x104eb1ef0>"
      ]
     },
     "metadata": {},
     "output_type": "display_data"
    }
   ],
   "source": [
    "horse[\"nasogastric_reflux_ph\"]=horse[\"nasogastric_reflux_ph\"].fillna(horse[\"nasogastric_reflux_ph\"].mean())\n",
    "sns.distplot(horse[\"nasogastric_reflux_ph\"], color = \"darkviolet\")\n",
    "plt.title(\"Nasogastric Reflux PH\")\n",
    "#plt.savefig('nrp2.png')\n",
    "plt.show()"
   ]
  },
  {
   "cell_type": "markdown",
   "metadata": {},
   "source": [
    "## Packed Cell Volume"
   ]
  },
  {
   "cell_type": "code",
   "execution_count": 18,
   "metadata": {},
   "outputs": [
    {
     "data": {
      "image/png": "[encoded data removed]",
      "text/plain": [
       "<matplotlib.figure.Figure at 0x1a145017b8>"
      ]
     },
     "metadata": {},
     "output_type": "display_data"
    },
    {
     "name": "stdout",
     "output_type": "stream",
     "text": [
      "Percent Missing 9.7 %\n"
     ]
    }
   ],
   "source": [
    "sns.distplot(horse[\"packed_cell_volume\"].loc[~horse[\"packed_cell_volume\"].isnull()], color = \"deepskyblue\")\n",
    "plt.title(\"Packed Cell Volume\")\n",
    "#plt.savefig('pcv1.png')\n",
    "plt.show()\n",
    "missing = (horse[\"packed_cell_volume\"].isnull().sum())/len(horse[\"packed_cell_volume\"])\n",
    "missing = missing*100\n",
    "missing = round(missing, 2)\n",
    "print(\"Percent Missing {} %\" .format(missing))"
   ]
  },
  {
   "cell_type": "code",
   "execution_count": 19,
   "metadata": {},
   "outputs": [
    {
     "data": {
      "image/png": "[encoded data removed]",
      "text/plain": [
       "<matplotlib.figure.Figure at 0x1a14589e48>"
      ]
     },
     "metadata": {},
     "output_type": "display_data"
    }
   ],
   "source": [
    "horse[\"packed_cell_volume\"]=horse[\"packed_cell_volume\"].fillna(horse[\"packed_cell_volume\"].mean())\n",
    "sns.distplot(horse[\"packed_cell_volume\"], color = \"deepskyblue\")\n",
    "plt.title(\"Packed Cell Volume\")\n",
    "#plt.savefig('pcv2.png')\n",
    "plt.show()"
   ]
  },
  {
   "cell_type": "markdown",
   "metadata": {},
   "source": [
    "## Total Protein"
   ]
  },
  {
   "cell_type": "code",
   "execution_count": 20,
   "metadata": {},
   "outputs": [
    {
     "data": {
      "image/png": "[encoded data removed]",
      "text/plain": [
       "<matplotlib.figure.Figure at 0x1a146cea20>"
      ]
     },
     "metadata": {},
     "output_type": "display_data"
    },
    {
     "name": "stdout",
     "output_type": "stream",
     "text": [
      "Percent Missing 11.04 %\n"
     ]
    }
   ],
   "source": [
    "sns.distplot(horse[\"total_protein\"].loc[~horse[\"total_protein\"].isnull()], color = \"chartreuse\")\n",
    "plt.title(\"Total Protein\")\n",
    "#plt.savefig('tp1.png')\n",
    "plt.show()\n",
    "missing = (horse[\"total_protein\"].isnull().sum())/len(horse[\"total_protein\"])\n",
    "missing = missing*100\n",
    "missing = round(missing, 2)\n",
    "print(\"Percent Missing {} %\" .format(missing))"
   ]
  },
  {
   "cell_type": "code",
   "execution_count": 21,
   "metadata": {},
   "outputs": [
    {
     "data": {
      "image/png": "[encoded data removed]",
      "text/plain": [
       "<matplotlib.figure.Figure at 0x1a146de5f8>"
      ]
     },
     "metadata": {},
     "output_type": "display_data"
    }
   ],
   "source": [
    "horse[\"total_protein\"]=horse[\"total_protein\"].fillna(horse[\"total_protein\"].median())\n",
    "sns.distplot(horse[\"total_protein\"], color = \"chartreuse\")\n",
    "plt.title(\"Total Protein\")\n",
    "#plt.savefig('tp2.png')\n",
    "plt.show()"
   ]
  },
  {
   "cell_type": "markdown",
   "metadata": {},
   "source": [
    "## Abdomo Protein"
   ]
  },
  {
   "cell_type": "code",
   "execution_count": 22,
   "metadata": {},
   "outputs": [
    {
     "data": {
      "image/png": "[encoded data removed]",
      "text/plain": [
       "<matplotlib.figure.Figure at 0x1a1494f320>"
      ]
     },
     "metadata": {},
     "output_type": "display_data"
    },
    {
     "name": "stdout",
     "output_type": "stream",
     "text": [
      "Percent Missing 66.22 %\n"
     ]
    }
   ],
   "source": [
    "sns.distplot(horse[\"abdomo_protein\"].loc[~horse[\"abdomo_protein\"].isnull()], color = \"mediumaquamarine\")\n",
    "plt.title(\"Abdomo Protein\")\n",
    "#plt.savefig('ap1.png')\n",
    "plt.show()\n",
    "missing = (horse[\"abdomo_protein\"].isnull().sum())/len(horse[\"abdomo_protein\"])\n",
    "missing = missing*100\n",
    "missing = round(missing, 2)\n",
    "print(\"Percent Missing {} %\" .format(missing))"
   ]
  },
  {
   "cell_type": "code",
   "execution_count": 23,
   "metadata": {},
   "outputs": [
    {
     "data": {
      "image/png": "[encoded data removed]",
      "text/plain": [
       "<matplotlib.figure.Figure at 0x1a144cddd8>"
      ]
     },
     "metadata": {},
     "output_type": "display_data"
    }
   ],
   "source": [
    "horse[\"abdomo_protein\"]=horse[\"abdomo_protein\"].fillna(horse[\"abdomo_protein\"].median())\n",
    "sns.distplot(horse[\"abdomo_protein\"], color = \"mediumaquamarine\")\n",
    "plt.title(\"Abdomo Protein\")\n",
    "#plt.savefig('ap2.png')\n",
    "plt.show()"
   ]
  },
  {
   "cell_type": "markdown",
   "metadata": {},
   "source": [
    "# Categorical NA's"
   ]
  },
  {
   "cell_type": "markdown",
   "metadata": {},
   "source": [
    "## Temp of Extremities"
   ]
  },
  {
   "cell_type": "code",
   "execution_count": 24,
   "metadata": {},
   "outputs": [
    {
     "data": {
      "image/png": "[encoded data removed]",
      "text/plain": [
       "<matplotlib.figure.Figure at 0x1a14832d68>"
      ]
     },
     "metadata": {},
     "output_type": "display_data"
    },
    {
     "name": "stdout",
     "output_type": "stream",
     "text": [
      "Percent Missing 18.73 %\n"
     ]
    }
   ],
   "source": [
    "sns.countplot(horse[\"temp_of_extremities\"], color = \"darkcyan\")\n",
    "plt.title(\"Temp of Extremities\")\n",
    "#plt.savefig('te.png')\n",
    "plt.show()\n",
    "missing = (horse[\"temp_of_extremities\"].isnull().sum())/len(horse[\"temp_of_extremities\"])\n",
    "missing = (round(missing, 4))*100\n",
    "print(\"Percent Missing {} %\" .format(missing))"
   ]
  },
  {
   "cell_type": "markdown",
   "metadata": {},
   "source": [
    "## Peripheral Pulse"
   ]
  },
  {
   "cell_type": "code",
   "execution_count": 25,
   "metadata": {},
   "outputs": [
    {
     "data": {
      "image/png": "[encoded data removed]",
      "text/plain": [
       "<matplotlib.figure.Figure at 0x1a14a3c240>"
      ]
     },
     "metadata": {},
     "output_type": "display_data"
    },
    {
     "name": "stdout",
     "output_type": "stream",
     "text": [
      "Percent Missing 23.08 %\n"
     ]
    }
   ],
   "source": [
    "sns.countplot(horse[\"peripheral_pulse\"], color = \"lavender\")\n",
    "plt.title(\"Peripheral Pulse\")\n",
    "#plt.savefig('pp.png')\n",
    "plt.show()\n",
    "missing = (horse[\"peripheral_pulse\"].isnull().sum())/len(horse[\"peripheral_pulse\"])\n",
    "missing = missing*100\n",
    "missing = round(missing, 2)\n",
    "print(\"Percent Missing {} %\" .format(missing))"
   ]
  },
  {
   "cell_type": "markdown",
   "metadata": {},
   "source": [
    "## Mucous Membrane"
   ]
  },
  {
   "cell_type": "code",
   "execution_count": 26,
   "metadata": {},
   "outputs": [
    {
     "data": {
      "image/png": "[encoded data removed]",
      "text/plain": [
       "<matplotlib.figure.Figure at 0x1a0c8aca90>"
      ]
     },
     "metadata": {},
     "output_type": "display_data"
    },
    {
     "name": "stdout",
     "output_type": "stream",
     "text": [
      "Percent Missing 15.72 %\n"
     ]
    }
   ],
   "source": [
    "sns.countplot(horse[\"mucous_membrane\"], color = \"limegreen\")\n",
    "plt.title(\"Mucous Membrane\")\n",
    "#plt.savefig('mm.png')\n",
    "plt.show()\n",
    "missing = (horse[\"mucous_membrane\"].isnull().sum())/len(horse[\"mucous_membrane\"])\n",
    "missing = missing*100\n",
    "missing = round(missing, 2)\n",
    "print(\"Percent Missing {} %\" .format(missing))"
   ]
  },
  {
   "cell_type": "markdown",
   "metadata": {},
   "source": [
    "## Capillary Refill Time"
   ]
  },
  {
   "cell_type": "code",
   "execution_count": 27,
   "metadata": {},
   "outputs": [
    {
     "data": {
      "image/png": "[encoded data removed]",
      "text/plain": [
       "<matplotlib.figure.Figure at 0x1a14a4f240>"
      ]
     },
     "metadata": {},
     "output_type": "display_data"
    },
    {
     "name": "stdout",
     "output_type": "stream",
     "text": [
      "Percent Missing 10.7 %\n"
     ]
    }
   ],
   "source": [
    "sns.countplot(horse[\"capillary_refill_time\"], color = \"powderblue\")\n",
    "plt.title(\"Capillary Refill Time\")\n",
    "#plt.savefig('crt.png')\n",
    "plt.show()\n",
    "missing = (horse[\"capillary_refill_time\"].isnull().sum())/len(horse[\"capillary_refill_time\"])\n",
    "missing = missing*100\n",
    "missing = round(missing, 2)\n",
    "print(\"Percent Missing {} %\" .format(missing))"
   ]
  },
  {
   "cell_type": "markdown",
   "metadata": {},
   "source": [
    "## Pain"
   ]
  },
  {
   "cell_type": "code",
   "execution_count": 28,
   "metadata": {},
   "outputs": [
    {
     "data": {
      "image/png": "[encoded data removed]",
      "text/plain": [
       "<matplotlib.figure.Figure at 0x1a0c882518>"
      ]
     },
     "metadata": {},
     "output_type": "display_data"
    },
    {
     "name": "stdout",
     "output_type": "stream",
     "text": [
      "Percent Missing 18.39 %\n"
     ]
    }
   ],
   "source": [
    "sns.countplot(horse[\"pain\"], color = \"hotpink\")\n",
    "plt.title(\"Pain\")\n",
    "#plt.savefig('p.png')\n",
    "plt.show()\n",
    "missing = (horse[\"pain\"].isnull().sum())/len(horse[\"pain\"])\n",
    "missing = missing*100\n",
    "missing = round(missing, 2)\n",
    "print(\"Percent Missing {} %\" .format(missing))"
   ]
  },
  {
   "cell_type": "markdown",
   "metadata": {},
   "source": [
    "## Peristalsis"
   ]
  },
  {
   "cell_type": "code",
   "execution_count": 29,
   "metadata": {},
   "outputs": [
    {
     "data": {
      "image/png": "[encoded data removed]",
      "text/plain": [
       "<matplotlib.figure.Figure at 0x1a14928ef0>"
      ]
     },
     "metadata": {},
     "output_type": "display_data"
    },
    {
     "name": "stdout",
     "output_type": "stream",
     "text": [
      "Percent Missing 14.72 %\n"
     ]
    }
   ],
   "source": [
    "sns.countplot(horse[\"peristalsis\"], color = \"fuchsia\")\n",
    "plt.title(\"Peristalsis\")\n",
    "#plt.savefig('per.png')\n",
    "plt.show()\n",
    "missing = (horse[\"peristalsis\"].isnull().sum())/len(horse[\"peristalsis\"])\n",
    "missing = missing*100\n",
    "missing = round(missing, 2)\n",
    "print(\"Percent Missing {} %\" .format(missing))"
   ]
  },
  {
   "cell_type": "markdown",
   "metadata": {},
   "source": [
    "## Abdominal Distention"
   ]
  },
  {
   "cell_type": "code",
   "execution_count": 30,
   "metadata": {},
   "outputs": [
    {
     "data": {
      "image/png": "[encoded data removed]",
      "text/plain": [
       "<matplotlib.figure.Figure at 0x105fb71d0>"
      ]
     },
     "metadata": {},
     "output_type": "display_data"
    },
    {
     "name": "stdout",
     "output_type": "stream",
     "text": [
      "Percent Missing 18.73 %\n"
     ]
    }
   ],
   "source": [
    "sns.countplot(horse[\"abdominal_distention\"], color = \"dodgerblue\")\n",
    "plt.title(\"Abdominal Distention\")\n",
    "#plt.savefig('ad.png')\n",
    "plt.show()\n",
    "missing = (horse[\"abdominal_distention\"].isnull().sum())/len(horse[\"abdominal_distention\"])\n",
    "missing = missing*100\n",
    "missing = round(missing, 2)\n",
    "print(\"Percent Missing {} %\" .format(missing))"
   ]
  },
  {
   "cell_type": "markdown",
   "metadata": {},
   "source": [
    "## Nasogastric Tube"
   ]
  },
  {
   "cell_type": "code",
   "execution_count": 31,
   "metadata": {},
   "outputs": [
    {
     "data": {
      "image/png": "[encoded data removed]",
      "text/plain": [
       "<matplotlib.figure.Figure at 0x1a14b9b160>"
      ]
     },
     "metadata": {},
     "output_type": "display_data"
    },
    {
     "name": "stdout",
     "output_type": "stream",
     "text": [
      "Percent Missing 34.78 %\n"
     ]
    }
   ],
   "source": [
    "sns.countplot(horse[\"nasogastric_tube\"], color = \"salmon\")\n",
    "plt.title(\"Nasogastric Tube\")\n",
    "#plt.savefig('nt.png')\n",
    "plt.show()\n",
    "missing = (horse[\"nasogastric_tube\"].isnull().sum())/len(horse[\"nasogastric_tube\"])\n",
    "missing = missing*100\n",
    "missing = round(missing, 2)\n",
    "print(\"Percent Missing {} %\" .format(missing))"
   ]
  },
  {
   "cell_type": "markdown",
   "metadata": {},
   "source": [
    "## Nasogastric Reflux"
   ]
  },
  {
   "cell_type": "code",
   "execution_count": 32,
   "metadata": {},
   "outputs": [
    {
     "data": {
      "image/png": "[encoded data removed]",
      "text/plain": [
       "<matplotlib.figure.Figure at 0x1a148f9208>"
      ]
     },
     "metadata": {},
     "output_type": "display_data"
    },
    {
     "name": "stdout",
     "output_type": "stream",
     "text": [
      "Percent Missing 35.45 %\n"
     ]
    }
   ],
   "source": [
    "sns.countplot(horse[\"nasogastric_reflux\"], color = \"thistle\")\n",
    "plt.title(\"Nasogastric Reflux\")\n",
    "#plt.savefig('nr.png')\n",
    "plt.show()\n",
    "missing = (horse[\"nasogastric_reflux\"].isnull().sum())/len(horse[\"nasogastric_reflux\"])\n",
    "missing = missing*100\n",
    "missing = round(missing, 2)\n",
    "print(\"Percent Missing {} %\" .format(missing))"
   ]
  },
  {
   "cell_type": "markdown",
   "metadata": {},
   "source": [
    "## Rectal Exam Feces"
   ]
  },
  {
   "cell_type": "code",
   "execution_count": 33,
   "metadata": {},
   "outputs": [
    {
     "data": {
      "image/png": "[encoded data removed]",
      "text/plain": [
       "<matplotlib.figure.Figure at 0x1a149577f0>"
      ]
     },
     "metadata": {},
     "output_type": "display_data"
    },
    {
     "name": "stdout",
     "output_type": "stream",
     "text": [
      "Percent Missing 34.11 %\n"
     ]
    }
   ],
   "source": [
    "sns.countplot(horse[\"rectal_exam_feces\"], color = \"yellowgreen\")\n",
    "plt.title(\"Rectal Exam Feces\")\n",
    "#plt.savefig('ref.png')\n",
    "plt.show()\n",
    "missing = (horse[\"rectal_exam_feces\"].isnull().sum())/len(horse[\"rectal_exam_feces\"])\n",
    "missing = missing*100\n",
    "missing = round(missing, 2)\n",
    "print(\"Percent Missing {} %\" .format(missing))"
   ]
  },
  {
   "cell_type": "markdown",
   "metadata": {},
   "source": [
    "## Abdomen"
   ]
  },
  {
   "cell_type": "code",
   "execution_count": 34,
   "metadata": {},
   "outputs": [
    {
     "data": {
      "image/png": "[encoded data removed]",
      "text/plain": [
       "<matplotlib.figure.Figure at 0x1a0c98e748>"
      ]
     },
     "metadata": {},
     "output_type": "display_data"
    },
    {
     "name": "stdout",
     "output_type": "stream",
     "text": [
      "Percent Missing 39.46 %\n"
     ]
    }
   ],
   "source": [
    "sns.countplot(horse[\"abdomen\"], color = \"blueviolet\")\n",
    "plt.title(\"Abdomen\")\n",
    "#plt.savefig('a.png')\n",
    "plt.show()\n",
    "missing = (horse[\"abdomen\"].isnull().sum())/len(horse[\"abdomen\"])\n",
    "missing = missing*100\n",
    "missing = round(missing, 2)\n",
    "print(\"Percent Missing {} %\" .format(missing))"
   ]
  },
  {
   "cell_type": "markdown",
   "metadata": {},
   "source": [
    "## Abdomo Appearance"
   ]
  },
  {
   "cell_type": "code",
   "execution_count": 35,
   "metadata": {},
   "outputs": [
    {
     "data": {
      "image/png": "[encoded data removed]",
      "text/plain": [
       "<matplotlib.figure.Figure at 0x1a1426f470>"
      ]
     },
     "metadata": {},
     "output_type": "display_data"
    },
    {
     "name": "stdout",
     "output_type": "stream",
     "text": [
      "Percent Missing 55.18 %\n"
     ]
    }
   ],
   "source": [
    "sns.countplot(horse[\"abdomo_appearance\"], color = \"cornflowerblue\")\n",
    "plt.title(\"Abdomo Appearance\")\n",
    "#plt.savefig('aa.png')\n",
    "plt.show()\n",
    "missing = (horse[\"abdomo_appearance\"].isnull().sum())/len(horse[\"abdomo_appearance\"])\n",
    "missing = missing*100\n",
    "missing = round(missing, 2)\n",
    "print(\"Percent Missing {} %\" .format(missing))"
   ]
  },
  {
   "cell_type": "markdown",
   "metadata": {},
   "source": [
    "## Number Alive vs Number Dead"
   ]
  },
  {
   "cell_type": "code",
   "execution_count": 36,
   "metadata": {},
   "outputs": [
    {
     "data": {
      "image/png": "[encoded data removed]",
      "text/plain": [
       "<matplotlib.figure.Figure at 0x1a146d2198>"
      ]
     },
     "metadata": {},
     "output_type": "display_data"
    }
   ],
   "source": [
    "sns.countplot(horse[\"alive\"], color = \"deepskyblue\")\n",
    "plt.title(\"Number Alive vs Number Dead\")\n",
    "#plt.savefig('outcome.png')\n",
    "plt.show()"
   ]
  },
  {
   "cell_type": "markdown",
   "metadata": {},
   "source": [
    "## Creating dummy variables for categorical"
   ]
  },
  {
   "cell_type": "code",
   "execution_count": 37,
   "metadata": {},
   "outputs": [
    {
     "data": {
      "text/html": [
       "<div>\n",
       "<style>\n",
       "    .dataframe thead tr:only-child th {\n",
       "        text-align: right;\n",
       "    }\n",
       "\n",
       "    .dataframe thead th {\n",
       "        text-align: left;\n",
       "    }\n",
       "\n",
       "    .dataframe tbody tr th {\n",
       "        vertical-align: top;\n",
       "    }\n",
       "</style>\n",
       "<table border=\"1\" class=\"dataframe\">\n",
       "  <thead>\n",
       "    <tr style=\"text-align: right;\">\n",
       "      <th></th>\n",
       "      <th>rectal_temp</th>\n",
       "      <th>pulse</th>\n",
       "      <th>respiratory_rate</th>\n",
       "      <th>nasogastric_reflux_ph</th>\n",
       "      <th>packed_cell_volume</th>\n",
       "      <th>total_protein</th>\n",
       "      <th>abdomo_protein</th>\n",
       "      <th>lesion_1</th>\n",
       "      <th>lesion_2</th>\n",
       "      <th>lesion_3</th>\n",
       "      <th>...</th>\n",
       "      <th>abdomen_other</th>\n",
       "      <th>abdomo_appearance_clear</th>\n",
       "      <th>abdomo_appearance_cloudy</th>\n",
       "      <th>abdomo_appearance_serosanguious</th>\n",
       "      <th>outcome_died</th>\n",
       "      <th>outcome_euthanized</th>\n",
       "      <th>outcome_lived</th>\n",
       "      <th>surgical_lesion_no</th>\n",
       "      <th>surgical_lesion_yes</th>\n",
       "      <th>alive</th>\n",
       "    </tr>\n",
       "  </thead>\n",
       "  <tbody>\n",
       "    <tr>\n",
       "      <th>0</th>\n",
       "      <td>38.5</td>\n",
       "      <td>66.0</td>\n",
       "      <td>28.0</td>\n",
       "      <td>4.707547</td>\n",
       "      <td>45.0</td>\n",
       "      <td>8.4</td>\n",
       "      <td>2.3</td>\n",
       "      <td>11300</td>\n",
       "      <td>0</td>\n",
       "      <td>0</td>\n",
       "      <td>...</td>\n",
       "      <td>0</td>\n",
       "      <td>0</td>\n",
       "      <td>0</td>\n",
       "      <td>0</td>\n",
       "      <td>1</td>\n",
       "      <td>0</td>\n",
       "      <td>0</td>\n",
       "      <td>1</td>\n",
       "      <td>0</td>\n",
       "      <td>1</td>\n",
       "    </tr>\n",
       "    <tr>\n",
       "      <th>1</th>\n",
       "      <td>39.2</td>\n",
       "      <td>88.0</td>\n",
       "      <td>20.0</td>\n",
       "      <td>4.707547</td>\n",
       "      <td>50.0</td>\n",
       "      <td>85.0</td>\n",
       "      <td>2.0</td>\n",
       "      <td>2208</td>\n",
       "      <td>0</td>\n",
       "      <td>0</td>\n",
       "      <td>...</td>\n",
       "      <td>1</td>\n",
       "      <td>0</td>\n",
       "      <td>1</td>\n",
       "      <td>0</td>\n",
       "      <td>0</td>\n",
       "      <td>1</td>\n",
       "      <td>0</td>\n",
       "      <td>1</td>\n",
       "      <td>0</td>\n",
       "      <td>1</td>\n",
       "    </tr>\n",
       "    <tr>\n",
       "      <th>2</th>\n",
       "      <td>38.3</td>\n",
       "      <td>40.0</td>\n",
       "      <td>24.0</td>\n",
       "      <td>4.707547</td>\n",
       "      <td>33.0</td>\n",
       "      <td>6.7</td>\n",
       "      <td>2.3</td>\n",
       "      <td>0</td>\n",
       "      <td>0</td>\n",
       "      <td>0</td>\n",
       "      <td>...</td>\n",
       "      <td>0</td>\n",
       "      <td>0</td>\n",
       "      <td>0</td>\n",
       "      <td>0</td>\n",
       "      <td>0</td>\n",
       "      <td>0</td>\n",
       "      <td>1</td>\n",
       "      <td>1</td>\n",
       "      <td>0</td>\n",
       "      <td>0</td>\n",
       "    </tr>\n",
       "    <tr>\n",
       "      <th>3</th>\n",
       "      <td>39.1</td>\n",
       "      <td>164.0</td>\n",
       "      <td>84.0</td>\n",
       "      <td>5.000000</td>\n",
       "      <td>48.0</td>\n",
       "      <td>7.2</td>\n",
       "      <td>5.3</td>\n",
       "      <td>2208</td>\n",
       "      <td>0</td>\n",
       "      <td>0</td>\n",
       "      <td>...</td>\n",
       "      <td>0</td>\n",
       "      <td>0</td>\n",
       "      <td>0</td>\n",
       "      <td>1</td>\n",
       "      <td>1</td>\n",
       "      <td>0</td>\n",
       "      <td>0</td>\n",
       "      <td>0</td>\n",
       "      <td>1</td>\n",
       "      <td>1</td>\n",
       "    </tr>\n",
       "    <tr>\n",
       "      <th>4</th>\n",
       "      <td>37.3</td>\n",
       "      <td>104.0</td>\n",
       "      <td>35.0</td>\n",
       "      <td>4.707547</td>\n",
       "      <td>74.0</td>\n",
       "      <td>7.4</td>\n",
       "      <td>2.3</td>\n",
       "      <td>4300</td>\n",
       "      <td>0</td>\n",
       "      <td>0</td>\n",
       "      <td>...</td>\n",
       "      <td>0</td>\n",
       "      <td>0</td>\n",
       "      <td>0</td>\n",
       "      <td>0</td>\n",
       "      <td>1</td>\n",
       "      <td>0</td>\n",
       "      <td>0</td>\n",
       "      <td>1</td>\n",
       "      <td>0</td>\n",
       "      <td>1</td>\n",
       "    </tr>\n",
       "  </tbody>\n",
       "</table>\n",
       "<p>5 rows × 68 columns</p>\n",
       "</div>"
      ],
      "text/plain": [
       "   rectal_temp  pulse  respiratory_rate  nasogastric_reflux_ph  \\\n",
       "0         38.5   66.0              28.0               4.707547   \n",
       "1         39.2   88.0              20.0               4.707547   \n",
       "2         38.3   40.0              24.0               4.707547   \n",
       "3         39.1  164.0              84.0               5.000000   \n",
       "4         37.3  104.0              35.0               4.707547   \n",
       "\n",
       "   packed_cell_volume  total_protein  abdomo_protein  lesion_1  lesion_2  \\\n",
       "0                45.0            8.4             2.3     11300         0   \n",
       "1                50.0           85.0             2.0      2208         0   \n",
       "2                33.0            6.7             2.3         0         0   \n",
       "3                48.0            7.2             5.3      2208         0   \n",
       "4                74.0            7.4             2.3      4300         0   \n",
       "\n",
       "   lesion_3  ...    abdomen_other  abdomo_appearance_clear  \\\n",
       "0         0  ...                0                        0   \n",
       "1         0  ...                1                        0   \n",
       "2         0  ...                0                        0   \n",
       "3         0  ...                0                        0   \n",
       "4         0  ...                0                        0   \n",
       "\n",
       "   abdomo_appearance_cloudy  abdomo_appearance_serosanguious  outcome_died  \\\n",
       "0                         0                                0             1   \n",
       "1                         1                                0             0   \n",
       "2                         0                                0             0   \n",
       "3                         0                                1             1   \n",
       "4                         0                                0             1   \n",
       "\n",
       "   outcome_euthanized  outcome_lived  surgical_lesion_no  surgical_lesion_yes  \\\n",
       "0                   0              0                   1                    0   \n",
       "1                   1              0                   1                    0   \n",
       "2                   0              1                   1                    0   \n",
       "3                   0              0                   0                    1   \n",
       "4                   0              0                   1                    0   \n",
       "\n",
       "   alive  \n",
       "0      1  \n",
       "1      1  \n",
       "2      0  \n",
       "3      1  \n",
       "4      1  \n",
       "\n",
       "[5 rows x 68 columns]"
      ]
     },
     "execution_count": 37,
     "metadata": {},
     "output_type": "execute_result"
    }
   ],
   "source": [
    "hold = horse[\"alive\"]\n",
    "hold\n",
    "horse = pd.get_dummies(horse)\n",
    "horse['alive'] = hold\n",
    "horse = horse.drop(['alive_0', 'alive_1'], axis=1)\n",
    "horse.head()"
   ]
  },
  {
   "cell_type": "code",
   "execution_count": 38,
   "metadata": {
    "collapsed": true
   },
   "outputs": [],
   "source": [
    "horse[\"alive\"]= horse[\"alive\"].astype('int64', copy=False)"
   ]
  },
  {
   "cell_type": "markdown",
   "metadata": {},
   "source": [
    "# Making sure we got all the NA's"
   ]
  },
  {
   "cell_type": "code",
   "execution_count": 39,
   "metadata": {},
   "outputs": [
    {
     "data": {
      "text/plain": [
       "rectal_temp                         0\n",
       "pulse                               0\n",
       "respiratory_rate                    0\n",
       "nasogastric_reflux_ph               0\n",
       "packed_cell_volume                  0\n",
       "total_protein                       0\n",
       "abdomo_protein                      0\n",
       "lesion_1                            0\n",
       "lesion_2                            0\n",
       "lesion_3                            0\n",
       "surgery_no                          0\n",
       "surgery_yes                         0\n",
       "age_adult                           0\n",
       "age_young                           0\n",
       "temp_of_extremities_cold            0\n",
       "temp_of_extremities_cool            0\n",
       "temp_of_extremities_normal          0\n",
       "temp_of_extremities_warm            0\n",
       "peripheral_pulse_absent             0\n",
       "peripheral_pulse_increased          0\n",
       "peripheral_pulse_normal             0\n",
       "peripheral_pulse_reduced            0\n",
       "mucous_membrane_bright_pink         0\n",
       "mucous_membrane_bright_red          0\n",
       "mucous_membrane_dark_cyanotic       0\n",
       "mucous_membrane_normal_pink         0\n",
       "mucous_membrane_pale_cyanotic       0\n",
       "mucous_membrane_pale_pink           0\n",
       "capillary_refill_time_3             0\n",
       "capillary_refill_time_less_3_sec    0\n",
       "                                   ..\n",
       "peristalsis_hypomotile              0\n",
       "peristalsis_normal                  0\n",
       "abdominal_distention_moderate       0\n",
       "abdominal_distention_none           0\n",
       "abdominal_distention_severe         0\n",
       "abdominal_distention_slight         0\n",
       "nasogastric_tube_none               0\n",
       "nasogastric_tube_significant        0\n",
       "nasogastric_tube_slight             0\n",
       "nasogastric_reflux_less_1_liter     0\n",
       "nasogastric_reflux_more_1_liter     0\n",
       "nasogastric_reflux_none             0\n",
       "rectal_exam_feces_absent            0\n",
       "rectal_exam_feces_decreased         0\n",
       "rectal_exam_feces_increased         0\n",
       "rectal_exam_feces_normal            0\n",
       "abdomen_distend_large               0\n",
       "abdomen_distend_small               0\n",
       "abdomen_firm                        0\n",
       "abdomen_normal                      0\n",
       "abdomen_other                       0\n",
       "abdomo_appearance_clear             0\n",
       "abdomo_appearance_cloudy            0\n",
       "abdomo_appearance_serosanguious     0\n",
       "outcome_died                        0\n",
       "outcome_euthanized                  0\n",
       "outcome_lived                       0\n",
       "surgical_lesion_no                  0\n",
       "surgical_lesion_yes                 0\n",
       "alive                               0\n",
       "Length: 68, dtype: int64"
      ]
     },
     "execution_count": 39,
     "metadata": {},
     "output_type": "execute_result"
    }
   ],
   "source": [
    "horse.isnull().sum()"
   ]
  },
  {
   "cell_type": "markdown",
   "metadata": {},
   "source": [
    "## Split into Train and Test Data "
   ]
  },
  {
   "cell_type": "code",
   "execution_count": 40,
   "metadata": {
    "collapsed": true
   },
   "outputs": [],
   "source": [
    "X_tr, X_te, y_tr, y_te = train_test_split(horse.iloc[:,0:67], horse.iloc[:,67:68], test_size=0.25, random_state=42)"
   ]
  },
  {
   "cell_type": "markdown",
   "metadata": {},
   "source": [
    "# Model Selection"
   ]
  },
  {
   "cell_type": "markdown",
   "metadata": {},
   "source": [
    "I run a few different classification algorithms and compare their scores to decide which method to move forward with. Logistic regression I ran using only pulse as a predictor as well as the full X matrix. "
   ]
  },
  {
   "cell_type": "markdown",
   "metadata": {},
   "source": [
    "## Logistic Regression"
   ]
  },
  {
   "cell_type": "code",
   "execution_count": 41,
   "metadata": {},
   "outputs": [
    {
     "name": "stdout",
     "output_type": "stream",
     "text": [
      "0.7\n"
     ]
    },
    {
     "name": "stderr",
     "output_type": "stream",
     "text": [
      "/anaconda3/lib/python3.6/site-packages/ipykernel_launcher.py:2: FutureWarning: reshape is deprecated and will raise in a subsequent release. Please use .values.reshape(...) instead\n",
      "  \n"
     ]
    }
   ],
   "source": [
    "logisticRegr = LogisticRegression()\n",
    "pulse = horse[\"pulse\"].reshape(-1,1)\n",
    "alive = horse[\"alive\"]\n",
    "pulse = pulse.reshape(-1,1)\n",
    "\n",
    "pulse_tr = pulse[1:265]\n",
    "pulse_te = pulse[265:275]\n",
    "\n",
    "alive_tr = alive[1:265]\n",
    "alive_te = alive[265:275]\n",
    "\n",
    "\n",
    "logisticRegr.fit(pulse_tr, alive_tr)\n",
    "predictions = logisticRegr.predict(pulse_te)\n",
    "score = logisticRegr.score(pulse_te, alive_te)\n",
    "print(score)\n"
   ]
  },
  {
   "cell_type": "code",
   "execution_count": 42,
   "metadata": {},
   "outputs": [
    {
     "name": "stdout",
     "output_type": "stream",
     "text": [
      "0.986666666667\n"
     ]
    }
   ],
   "source": [
    "logisticRegr.fit(X_tr, y_tr.values.ravel())\n",
    "predictions = logisticRegr.predict(X_te)\n",
    "score = logisticRegr.score(X_te, y_te.values.ravel())\n",
    "print(score)"
   ]
  },
  {
   "cell_type": "markdown",
   "metadata": {
    "collapsed": true
   },
   "source": [
    "## Support Vector Machine (SVM)"
   ]
  },
  {
   "cell_type": "code",
   "execution_count": 43,
   "metadata": {},
   "outputs": [
    {
     "data": {
      "text/plain": [
       "0.64000000000000001"
      ]
     },
     "execution_count": 43,
     "metadata": {},
     "output_type": "execute_result"
    }
   ],
   "source": [
    "svmclf = svm.SVC()\n",
    "svmclf.fit(X_tr, y_tr.values.ravel())\n",
    "svmclf.score(X_te, y_te.values.ravel())"
   ]
  },
  {
   "cell_type": "markdown",
   "metadata": {},
   "source": [
    "Logistic regression with only pulse as a predictor is doing better than the SVM method. "
   ]
  },
  {
   "cell_type": "markdown",
   "metadata": {
    "collapsed": true
   },
   "source": [
    "## Bayesian Classifier"
   ]
  },
  {
   "cell_type": "code",
   "execution_count": 44,
   "metadata": {},
   "outputs": [
    {
     "data": {
      "text/plain": [
       "0.94666666666666666"
      ]
     },
     "execution_count": 44,
     "metadata": {},
     "output_type": "execute_result"
    }
   ],
   "source": [
    "bclf = GaussianNB()\n",
    "bclf.fit(X_tr, y_tr.values.ravel())\n",
    "bclf.score(X_te, y_te.values.ravel())"
   ]
  },
  {
   "cell_type": "markdown",
   "metadata": {
    "collapsed": true
   },
   "source": [
    "## Linear Discriminant Analysis (LDA)"
   ]
  },
  {
   "cell_type": "code",
   "execution_count": 45,
   "metadata": {},
   "outputs": [
    {
     "name": "stderr",
     "output_type": "stream",
     "text": [
      "/anaconda3/lib/python3.6/site-packages/sklearn/discriminant_analysis.py:388: UserWarning: Variables are collinear.\n",
      "  warnings.warn(\"Variables are collinear.\")\n"
     ]
    },
    {
     "data": {
      "text/plain": [
       "0.80000000000000004"
      ]
     },
     "execution_count": 45,
     "metadata": {},
     "output_type": "execute_result"
    }
   ],
   "source": [
    "LDAclf = LinearDiscriminantAnalysis()\n",
    "LDAclf.fit(X_tr, y_tr.values.ravel())\n",
    "LDAclf.score(X_te, y_te.values.ravel())"
   ]
  },
  {
   "cell_type": "markdown",
   "metadata": {
    "collapsed": true
   },
   "source": [
    "## K-Nearest Neighbors"
   ]
  },
  {
   "cell_type": "code",
   "execution_count": 46,
   "metadata": {},
   "outputs": [
    {
     "data": {
      "text/plain": [
       "0.77333333333333332"
      ]
     },
     "execution_count": 46,
     "metadata": {},
     "output_type": "execute_result"
    }
   ],
   "source": [
    "neigh = KNeighborsClassifier(n_neighbors=5)\n",
    "neigh.fit(X_tr, y_tr.values.ravel()) \n",
    "neigh.score(X_te, y_te.values.ravel())"
   ]
  },
  {
   "cell_type": "markdown",
   "metadata": {
    "collapsed": true
   },
   "source": [
    "## Random Forests"
   ]
  },
  {
   "cell_type": "code",
   "execution_count": 47,
   "metadata": {},
   "outputs": [
    {
     "data": {
      "text/plain": [
       "0.89333333333333331"
      ]
     },
     "execution_count": 47,
     "metadata": {},
     "output_type": "execute_result"
    }
   ],
   "source": [
    "RFclf = RandomForestClassifier(max_depth=2, random_state=0)\n",
    "RFclf.fit(X_tr, y_tr.values.ravel()) \n",
    "RFclf.score(X_te, y_te.values.ravel())"
   ]
  },
  {
   "cell_type": "markdown",
   "metadata": {},
   "source": [
    "The two highest scores are the logistic regressionw ith the full set of predictors and the bayesian classifier. I will move forward to model validation with these two methods. "
   ]
  },
  {
   "cell_type": "markdown",
   "metadata": {},
   "source": [
    "# Model Validation"
   ]
  },
  {
   "cell_type": "markdown",
   "metadata": {},
   "source": [
    "## 10-Fold Cross Validation"
   ]
  },
  {
   "cell_type": "code",
   "execution_count": 48,
   "metadata": {},
   "outputs": [
    {
     "name": "stdout",
     "output_type": "stream",
     "text": [
      "10-fold cross validation average accuracy: 1.000\n"
     ]
    }
   ],
   "source": [
    "kfold = model_selection.KFold(n_splits=10, random_state=7)\n",
    "scoring = 'accuracy'\n",
    "results = model_selection.cross_val_score(logisticRegr, X_tr, y_tr.values.ravel(), cv=kfold, scoring=scoring)\n",
    "print(\"10-fold cross validation average accuracy: %.3f\" % (results.mean()))"
   ]
  },
  {
   "cell_type": "code",
   "execution_count": 49,
   "metadata": {},
   "outputs": [
    {
     "name": "stdout",
     "output_type": "stream",
     "text": [
      "10-fold cross validation average accuracy: 0.951\n"
     ]
    }
   ],
   "source": [
    "results = model_selection.cross_val_score(bclf, X_tr, y_tr.values.ravel(), cv=kfold, scoring=scoring)\n",
    "print(\"10-fold cross validation average accuracy: %.3f\" % (results.mean()))"
   ]
  },
  {
   "cell_type": "markdown",
   "metadata": {},
   "source": [
    "The scores are approximately equal to the previously calculated scores as expected."
   ]
  },
  {
   "cell_type": "markdown",
   "metadata": {},
   "source": [
    "## Confusion Matrices"
   ]
  },
  {
   "cell_type": "code",
   "execution_count": 50,
   "metadata": {},
   "outputs": [
    {
     "data": {
      "image/png": "[encoded data removed]",
      "text/plain": [
       "<matplotlib.figure.Figure at 0x10600c198>"
      ]
     },
     "metadata": {},
     "output_type": "display_data"
    }
   ],
   "source": [
    "predLR = logisticRegr.predict(X_te)\n",
    "# Compute confusion matrix\n",
    "cnf_matrix = confusion_matrix(y_te, predLR)\n",
    "np.set_printoptions(precision=2)\n",
    "ax= plt.subplot()\n",
    "sns.heatmap(cnf_matrix, annot=True, ax = ax, cmap=\"YlGnBu\"); #annot=True to annotate cells\n",
    "\n",
    "# labels, title and ticks\n",
    "ax.set_xlabel('Predicted labels');ax.set_ylabel('True labels'); \n",
    "ax.set_title('Confusion Matrix for Logistic Regression'); \n",
    "ax.xaxis.set_ticklabels(['dead', 'alive']); ax.yaxis.set_ticklabels(['alive', 'dead']);\n",
    "#plt.savefig('confLog.png')\n",
    "plt.show()"
   ]
  },
  {
   "cell_type": "code",
   "execution_count": 51,
   "metadata": {},
   "outputs": [
    {
     "data": {
      "image/png": "[encoded data removed]",
      "text/plain": [
       "<matplotlib.figure.Figure at 0x1a144a7278>"
      ]
     },
     "metadata": {},
     "output_type": "display_data"
    }
   ],
   "source": [
    "predB = bclf.predict(X_te)\n",
    "# Compute confusion matrix\n",
    "cnf_matrix = confusion_matrix(y_te, predB)\n",
    "np.set_printoptions(precision=2)\n",
    "ax= plt.subplot()\n",
    "sns.heatmap(cnf_matrix, annot=True, ax = ax, cmap=\"Greens\"); #annot=True to annotate cells\n",
    "\n",
    "# labels, title and ticks\n",
    "ax.set_xlabel('Predicted labels');ax.set_ylabel('True labels'); \n",
    "ax.set_title('Confusion Matrix for Bayesian Classification'); \n",
    "ax.xaxis.set_ticklabels(['dead', 'alive']); ax.yaxis.set_ticklabels(['alive', 'dead']);\n",
    "#plt.savefig('confb.png')\n",
    "plt.show()"
   ]
  },
  {
   "cell_type": "markdown",
   "metadata": {},
   "source": [
    "## Precision Recall Report"
   ]
  },
  {
   "cell_type": "code",
   "execution_count": 52,
   "metadata": {},
   "outputs": [
    {
     "name": "stdout",
     "output_type": "stream",
     "text": [
      "Precision Recall Report Logistic Regression\n",
      "             precision    recall  f1-score   support\n",
      "\n",
      "          0       0.98      1.00      0.99        43\n",
      "          1       1.00      0.97      0.98        32\n",
      "\n",
      "avg / total       0.99      0.99      0.99        75\n",
      "\n"
     ]
    }
   ],
   "source": [
    "print('Precision Recall Report Logistic Regression')\n",
    "print(classification_report(y_te, predLR))"
   ]
  },
  {
   "cell_type": "code",
   "execution_count": 53,
   "metadata": {},
   "outputs": [
    {
     "name": "stdout",
     "output_type": "stream",
     "text": [
      "Precision Recall Report Bayesian Classification\n",
      "             precision    recall  f1-score   support\n",
      "\n",
      "          0       0.98      0.93      0.95        43\n",
      "          1       0.91      0.97      0.94        32\n",
      "\n",
      "avg / total       0.95      0.95      0.95        75\n",
      "\n"
     ]
    }
   ],
   "source": [
    "print('Precision Recall Report Bayesian Classification')\n",
    "print(classification_report(y_te, predB))"
   ]
  },
  {
   "cell_type": "markdown",
   "metadata": {},
   "source": [
    "## ROC Curves"
   ]
  },
  {
   "cell_type": "code",
   "execution_count": 54,
   "metadata": {},
   "outputs": [
    {
     "data": {
      "image/png": "[encoded data removed]",
      "text/plain": [
       "<matplotlib.figure.Figure at 0x1a147f8358>"
      ]
     },
     "metadata": {},
     "output_type": "display_data"
    }
   ],
   "source": [
    "logit_roc_auc = roc_auc_score(y_te, predLR)\n",
    "fpr, tpr, thresholds = roc_curve(y_te, logisticRegr.predict_proba(X_te)[:,1])\n",
    "plt.figure()\n",
    "plt.plot(fpr, tpr, label='Logistic Regression (area = %0.2f)' % logit_roc_auc)\n",
    "plt.plot([0, 1], [0, 1],'r--')\n",
    "plt.xlim([0.0, 1.0])\n",
    "plt.ylim([0.0, 1.05])\n",
    "plt.xlabel('False Positive Rate')\n",
    "plt.ylabel('True Positive Rate')\n",
    "plt.title('ROC Curve Logistic Regression')\n",
    "plt.legend(loc=\"lower right\")\n",
    "#plt.savefig('rocLog.png')\n",
    "plt.show()"
   ]
  },
  {
   "cell_type": "code",
   "execution_count": 55,
   "metadata": {},
   "outputs": [
    {
     "data": {
      "image/png": "[encoded data removed]",
      "text/plain": [
       "<matplotlib.figure.Figure at 0x1a146f6198>"
      ]
     },
     "metadata": {},
     "output_type": "display_data"
    }
   ],
   "source": [
    "bayes_roc_auc = roc_auc_score(y_te, predB)\n",
    "fpr, tpr, thresholds = roc_curve(y_te, bclf.predict_proba(X_te)[:,1])\n",
    "plt.figure()\n",
    "plt.plot(fpr, tpr, label='Bayesian Classification (area = %0.2f)' % bayes_roc_auc)\n",
    "plt.plot([0, 1], [0, 1],'r--')\n",
    "plt.xlim([0.0, 1.0])\n",
    "plt.ylim([0.0, 1.05])\n",
    "plt.xlabel('False Positive Rate')\n",
    "plt.ylabel('True Positive Rate')\n",
    "plt.title('ROC Curve Bayesian Classification')\n",
    "plt.legend(loc=\"lower right\")\n",
    "#plt.savefig('rocb.png')\n",
    "plt.show()"
   ]
  },
  {
   "cell_type": "markdown",
   "metadata": {},
   "source": [
    "# Conclusions"
   ]
  },
  {
   "attachments": {},
   "cell_type": "markdown",
   "metadata": {},
   "source": [
    "Both logistic regression and Bayesian classification display an excellent capability to determine whether a horse will live or die following a colic. Each method of evaluating the models shows that logistic regression is slightly better but not by much. Both of these methods are easy to interpret. We use three primary methods of evaluating. K-fold cross validation where we select k to be 10. Logistic regression's percent accuracy is 100%. This is most likely due to rounding since it is clear from later methods that while it is almost perfect it does make some errors in classification. Bayesian has a cross validation percent accuracy of 95.1%. The confusion matrices both show us where the misclassifications are happening. We see that logistic classifies one point incorrectly and Bayesian misclassified 4 points. We again see nearly perfect results for both methods when we look at the precision recall and ROC curves. The clear relationship between medical history and whether a horse lives or dies encourages many opportunities for further investigation in additional research projects."
   ]
  },
  {
   "cell_type": "markdown",
   "metadata": {},
   "source": [
    "# Future Work"
   ]
  },
  {
   "cell_type": "markdown",
   "metadata": {},
   "source": [
    "The first thing that comes to mind for future work would be a more complete dataset. It would also be nice to try and understand methods that are most effective in a horse's survival. So one thing that is considered common knowledge is that if a horse in colic owner's need to continously walk the horse around. It would be good to get some predictor variables that relate to the course of treatment. Are horses with certain medical backgrounds destined to live or die regardless of treatment? Or are their healthcare teams picking different treatments based on their medical history? For example do older horses get less intensive treatments? There are many different ways we could investigate this question future research. "
   ]
  },
  {
   "cell_type": "markdown",
   "metadata": {
    "collapsed": true
   },
   "source": [
    "# Sources"
   ]
  },
  {
   "cell_type": "markdown",
   "metadata": {
    "collapsed": true
   },
   "source": [
    "1. Holtz, Yan. “#92 Control Color in Seaborn Heatmaps.” The Python Graph Gallery, 13 Mar. 2018, python-graph-gallery.com/92-control-color-in-seaborn-heatmaps/.\n",
    "\n",
    "2. Li, Susan. “Building A Logistic Regression in Python, Step by Step.” Towards Data Science, Towards Data Science, 29 Sept. 2017, towardsdatascience.com/building-a-logistic-regression-in-python-step-by-step-becd4d56c9c8.\n",
    "\n",
    "3. “Sklearn Plot Confusion Matrix with Labels.” Stack Overflow, stackoverflow.com/questions/19233771/sklearn-plot-confusion-matrix-with-labels.\n",
    "\n",
    "4. “Tuning SVM : Bringing Accuracy from 62 % to 98.8 % | Kaggle.” Countries of the World | Kaggle, www.kaggle.com/himakund/tuning-svm-bringing-accuracy-from-62-to-98-8.\n",
    "\n",
    "5. UCI. “Horse Colic Dataset | Kaggle.” Countries of the World | Kaggle, 6 June 2017, www.kaggle.com/uciml/horse-colic.\n",
    "\n",
    "\n"
   ]
  },
  {
   "cell_type": "code",
   "execution_count": null,
   "metadata": {
    "collapsed": true
   },
   "outputs": [],
   "source": []
  }
 ],
 "metadata": {
  "kernelspec": {
   "display_name": "Python 3",
   "language": "python",
   "name": "python3"
  },
  "language_info": {
   "codemirror_mode": {
    "name": "ipython",
    "version": 3
   },
   "file_extension": ".py",
   "mimetype": "text/x-python",
   "name": "python",
   "nbconvert_exporter": "python",
   "pygments_lexer": "ipython3",
   "version": "3.6.3"
  }
 },
 "nbformat": 4,
 "nbformat_minor": 2
}
